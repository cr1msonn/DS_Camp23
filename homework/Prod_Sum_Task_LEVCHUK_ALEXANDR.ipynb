{
 "cells": [
  {
   "cell_type": "code",
   "execution_count": 95,
   "metadata": {},
   "outputs": [],
   "source": [
    "import numpy as np"
   ]
  },
  {
   "cell_type": "code",
   "execution_count": 96,
   "metadata": {},
   "outputs": [],
   "source": [
    "def a_b(sum, prod):\n",
    "    for a in np.arange(2, (sum//2)+1):\n",
    "        b = sum - a\n",
    "        if a * b == prod:\n",
    "            if a < 100 and b < 100:\n",
    "                return [a, b]\n",
    "            else:\n",
    "                print(f\"Numbers {[a, b]} are not under the condition (>100)\")\n",
    "                return [0]\n",
    "    print(\"Numbers are wrong or not under the condition\")     \n",
    "    return [0]"
   ]
  },
  {
   "cell_type": "code",
   "execution_count": 97,
   "metadata": {},
   "outputs": [
    {
     "name": "stdout",
     "output_type": "stream",
     "text": [
      "[7, 7]\n"
     ]
    }
   ],
   "source": [
    "print(a_b(14, 49))"
   ]
  },
  {
   "cell_type": "code",
   "execution_count": 98,
   "metadata": {},
   "outputs": [
    {
     "name": "stdout",
     "output_type": "stream",
     "text": [
      "[42, 45]\n"
     ]
    }
   ],
   "source": [
    "print(a_b(87, 1890))"
   ]
  },
  {
   "cell_type": "code",
   "execution_count": 99,
   "metadata": {},
   "outputs": [
    {
     "name": "stdout",
     "output_type": "stream",
     "text": [
      "Numbers [3, 105] are not under the condition (>100)\n",
      "[0]\n"
     ]
    }
   ],
   "source": [
    "print(a_b(108, 315))"
   ]
  },
  {
   "cell_type": "code",
   "execution_count": 100,
   "metadata": {},
   "outputs": [
    {
     "name": "stdout",
     "output_type": "stream",
     "text": [
      "Numbers are wrong or not under the condition\n",
      "[0]\n"
     ]
    }
   ],
   "source": [
    "print(a_b(2, 1))"
   ]
  }
 ],
 "metadata": {
  "kernelspec": {
   "display_name": "Python 3",
   "language": "python",
   "name": "python3"
  },
  "language_info": {
   "codemirror_mode": {
    "name": "ipython",
    "version": 3
   },
   "file_extension": ".py",
   "mimetype": "text/x-python",
   "name": "python",
   "nbconvert_exporter": "python",
   "pygments_lexer": "ipython3",
   "version": "3.9.6"
  },
  "orig_nbformat": 4
 },
 "nbformat": 4,
 "nbformat_minor": 2
}
