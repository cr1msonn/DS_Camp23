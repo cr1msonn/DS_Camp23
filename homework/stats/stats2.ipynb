{
 "cells": [
  {
   "cell_type": "code",
   "execution_count": 3,
   "metadata": {},
   "outputs": [
    {
     "name": "stdout",
     "output_type": "stream",
     "text": [
      "Calculated z-value: -2.3664\n",
      "Critical z-value: 1.6449\n",
      "Reject the null hypothesis\n"
     ]
    }
   ],
   "source": [
    "import numpy as np\n",
    "from scipy.stats import norm\n",
    "\n",
    "\n",
    "mean_one= 3.1\n",
    "std_dev_old = 1.0\n",
    "sample_size_one = 40\n",
    "\n",
    "mean_two = 3.8\n",
    "std_dev_new = 1.5\n",
    "sample_size_two= 36\n",
    "a = 0.10\n",
    "\n",
    "\n",
    "standard_error_diff = np.sqrt((std_dev_old**2 / sample_size_one) + (std_dev_new**2 / sample_size_two))\n",
    "z_calculated = (mean_one - mean_two) / standard_error_diff\n",
    "\n",
    "z_critical = norm.ppf(1 - a / 2)\n",
    "\n",
    "\n",
    "print(f'Calculated z-value: {z_calculated:.4f}')\n",
    "print(f'Critical z-value: {z_critical:.4f}')\n",
    "\n",
    "\n",
    "if np.abs(z_calculated) > z_critical:\n",
    "    print(\"Reject the null hypothesis\")\n",
    "else:\n",
    "    print(\"Fail to reject the null hypothesis.\")\n"
   ]
  }
 ],
 "metadata": {
  "kernelspec": {
   "display_name": "Python 3",
   "language": "python",
   "name": "python3"
  },
  "language_info": {
   "codemirror_mode": {
    "name": "ipython",
    "version": 3
   },
   "file_extension": ".py",
   "mimetype": "text/x-python",
   "name": "python",
   "nbconvert_exporter": "python",
   "pygments_lexer": "ipython3",
   "version": "3.11.6"
  }
 },
 "nbformat": 4,
 "nbformat_minor": 2
}
